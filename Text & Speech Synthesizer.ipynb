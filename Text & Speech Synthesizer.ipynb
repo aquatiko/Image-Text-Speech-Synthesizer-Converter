{
 "cells": [
  {
   "cell_type": "code",
   "execution_count": 1,
   "metadata": {},
   "outputs": [],
   "source": [
    "from gtts import gTTS           # used for converting text to speech\n",
    "from PIL import Image           # used for handling image type file\n",
    "import PIL                      # Python Imaging Library\n",
    "import gtts                     # Google's text to Speech API\n",
    "import pytesseract              # used for image to text conversion using OCR\n",
    "from tkinter import filedialog  # Used to provide GUI open/save feature\n",
    "from tkinter import *"
   ]
  },
  {
   "cell_type": "code",
   "execution_count": 5,
   "metadata": {},
   "outputs": [
    {
     "name": "stdout",
     "output_type": "stream",
     "text": [
      "***MENU***\n",
      "1.Image to Text\n",
      "2.Image to Speech\n",
      "3.Text to Speech\n",
      "4.Exit\n",
      "1\n",
      "\n",
      "Sorry!! Nothing recogonized\n",
      "***MENU***\n",
      "1.Image to Text\n",
      "2.Image to Speech\n",
      "3.Text to Speech\n",
      "4.Exit\n",
      "2\n",
      "Saved\n",
      "***MENU***\n",
      "1.Image to Text\n",
      "2.Image to Speech\n",
      "3.Text to Speech\n",
      "4.Exit\n",
      "4\n"
     ]
    }
   ],
   "source": [
    "ch=0\n",
    "while ch!=4:\n",
    "    print(\"\")\n",
    "    print(\"***MENU***\")\n",
    "    print(\"1.Image to Text\")\n",
    "    print(\"2.Image to Speech\")\n",
    "    print(\"3.Text to Speech\")\n",
    "    print(\"4.Exit\")\n",
    "    ch= int(input())\n",
    "    \n",
    "    if ch==1 :\n",
    "        root= Tk()    # Initialize Tkinter module\n",
    "        root.filename =  filedialog.askopenfilename(initialdir = \"/\",title = \"Select image to open\",filetypes = ((\"jpeg files\",\"*.jpg\"),(\"all files\",\"*.*\")))\n",
    "                                                        # provides a dialog box for asking file to open and returns it's path\n",
    "        img= PIL.Image.open(root.filename)      # opening image type file\n",
    "        result= pytesseract.image_to_string(img)   # converting image to text\n",
    "        \n",
    "        print(result)\n",
    "        if(result==\"\"):\n",
    "            print(\"Sorry!! Nothing recogonized\")\n",
    "        \n",
    "    elif ch==2:\n",
    "        root= Tk()    # Initialize Tkinter module\n",
    "        root.filename =  filedialog.askopenfilename(initialdir = \"/\",title = \"Select image to open\",filetypes = ((\"jpeg files\",\"*.jpg\"),(\"all files\",\"*.*\")))\n",
    "                                                        # provides a dialog box for asking file to open and returns it's path\n",
    "        img= PIL.Image.open(root.filename)      # opening image type file\n",
    "        result= pytesseract.image_to_string(img)   # converting image to text\n",
    "        \n",
    "        if(result==\"\"):\n",
    "            print(\"Sorry!! Nothing recogonized\")\n",
    "            continue\n",
    "            \n",
    "        res= gTTS(result)                # converting text to speech  .... Internet required\n",
    "        root.filename =  filedialog.asksaveasfilename(initialdir = \"/\",title = \"Save audio file\",filetypes = ((\"mp3 files\",\"*.mp3\"),(\"all files\",\"*.*\")))\n",
    "                                         # provides a dialog box for asking file to save and returns it's path\n",
    "        res.save(root.filename+ '.mp3')     # inbuit audio saving function\n",
    "        print(\"Saved\")\n",
    "        \n",
    "    elif ch==3:\n",
    "        textInp= input(\"Enter text to be converted:\")\n",
    "        res= gTTS(textInp)\n",
    "        root.filename =  filedialog.asksaveasfilename(initialdir = \"/\",title = \"Save audio file\",filetypes = ((\"mp3 files\",\"*.mp3\"),(\"all files\",\"*.*\")))\n",
    "        res.save(root.filename+ '.mp3')\n",
    "        \n",
    "        print(\"Saved\")\n",
    "        \n",
    "    elif ch!=4:\n",
    "        print(\"Enter valid choice\")\n",
    "        \n",
    "        \n"
   ]
  },
  {
   "cell_type": "code",
   "execution_count": null,
   "metadata": {},
   "outputs": [],
   "source": []
  }
 ],
 "metadata": {
  "kernelspec": {
   "display_name": "Python 3",
   "language": "python",
   "name": "python3"
  },
  "language_info": {
   "codemirror_mode": {
    "name": "ipython",
    "version": 3
   },
   "file_extension": ".py",
   "mimetype": "text/x-python",
   "name": "python",
   "nbconvert_exporter": "python",
   "pygments_lexer": "ipython3",
   "version": "3.6.5"
  }
 },
 "nbformat": 4,
 "nbformat_minor": 2
}
